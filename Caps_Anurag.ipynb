{
 "cells": [
  {
   "cell_type": "code",
   "execution_count": 1,
   "id": "3f9ba0c5",
   "metadata": {},
   "outputs": [],
   "source": [
    "import pandas as pd\n",
    "from sklearn.metrics import mean_squared_error\n",
    "from statsmodels.tsa.arima.model import ARIMA\n",
    "from statsmodels.tsa.statespace.sarimax import SARIMAX\n",
    "from matplotlib import pyplot as plt\n"
   ]
  },
  {
   "cell_type": "code",
   "execution_count": 2,
   "id": "3c056236",
   "metadata": {},
   "outputs": [],
   "source": [
    "years = list(range(1950, 2021))\n",
    "renewable_energy = [4250, 4492, 4733, 4975, 5217, 5458, 5700, 5942, 6183, 6425, 6667, 6908, 7150, 7392, 7633, 7875, 8117, 8358, 8600, 8842, 9083, 9425, 9767, 10108, 10450, 10792, 11133, 11475, 11817, 12158, 12500, 12942, 13383, 13825, 14267, 14708, 15150, 15592, 16033, 16475, 16917, 17917, 18917, 19917, 20917, 21917, 22917, 23917, 24917, 25917, 26917, 28917, 30917, 32917, 34917, 36917, 38917, 40917, 42917, 44917, 46917, 51917, 56917, 61917, 66917, 71917, 76917, 81917, 86917, 91917, 96917]\n",
    "\n",
    "data = {'Year': years, 'Renewable Energy (MW)': renewable_energy}\n",
    "data = pd.DataFrame(data)"
   ]
  },
  {
   "cell_type": "code",
   "execution_count": 3,
   "id": "d6344821",
   "metadata": {},
   "outputs": [
    {
     "data": {
      "text/html": [
       "<div>\n",
       "<style scoped>\n",
       "    .dataframe tbody tr th:only-of-type {\n",
       "        vertical-align: middle;\n",
       "    }\n",
       "\n",
       "    .dataframe tbody tr th {\n",
       "        vertical-align: top;\n",
       "    }\n",
       "\n",
       "    .dataframe thead th {\n",
       "        text-align: right;\n",
       "    }\n",
       "</style>\n",
       "<table border=\"1\" class=\"dataframe\">\n",
       "  <thead>\n",
       "    <tr style=\"text-align: right;\">\n",
       "      <th></th>\n",
       "      <th>Year</th>\n",
       "      <th>Renewable Energy (MW)</th>\n",
       "    </tr>\n",
       "  </thead>\n",
       "  <tbody>\n",
       "    <tr>\n",
       "      <th>0</th>\n",
       "      <td>1950</td>\n",
       "      <td>4250</td>\n",
       "    </tr>\n",
       "    <tr>\n",
       "      <th>1</th>\n",
       "      <td>1951</td>\n",
       "      <td>4492</td>\n",
       "    </tr>\n",
       "    <tr>\n",
       "      <th>2</th>\n",
       "      <td>1952</td>\n",
       "      <td>4733</td>\n",
       "    </tr>\n",
       "    <tr>\n",
       "      <th>3</th>\n",
       "      <td>1953</td>\n",
       "      <td>4975</td>\n",
       "    </tr>\n",
       "    <tr>\n",
       "      <th>4</th>\n",
       "      <td>1954</td>\n",
       "      <td>5217</td>\n",
       "    </tr>\n",
       "    <tr>\n",
       "      <th>...</th>\n",
       "      <td>...</td>\n",
       "      <td>...</td>\n",
       "    </tr>\n",
       "    <tr>\n",
       "      <th>66</th>\n",
       "      <td>2016</td>\n",
       "      <td>76917</td>\n",
       "    </tr>\n",
       "    <tr>\n",
       "      <th>67</th>\n",
       "      <td>2017</td>\n",
       "      <td>81917</td>\n",
       "    </tr>\n",
       "    <tr>\n",
       "      <th>68</th>\n",
       "      <td>2018</td>\n",
       "      <td>86917</td>\n",
       "    </tr>\n",
       "    <tr>\n",
       "      <th>69</th>\n",
       "      <td>2019</td>\n",
       "      <td>91917</td>\n",
       "    </tr>\n",
       "    <tr>\n",
       "      <th>70</th>\n",
       "      <td>2020</td>\n",
       "      <td>96917</td>\n",
       "    </tr>\n",
       "  </tbody>\n",
       "</table>\n",
       "<p>71 rows × 2 columns</p>\n",
       "</div>"
      ],
      "text/plain": [
       "    Year  Renewable Energy (MW)\n",
       "0   1950                   4250\n",
       "1   1951                   4492\n",
       "2   1952                   4733\n",
       "3   1953                   4975\n",
       "4   1954                   5217\n",
       "..   ...                    ...\n",
       "66  2016                  76917\n",
       "67  2017                  81917\n",
       "68  2018                  86917\n",
       "69  2019                  91917\n",
       "70  2020                  96917\n",
       "\n",
       "[71 rows x 2 columns]"
      ]
     },
     "execution_count": 3,
     "metadata": {},
     "output_type": "execute_result"
    }
   ],
   "source": [
    "data"
   ]
  },
  {
   "cell_type": "code",
   "execution_count": 4,
   "id": "c2101a82",
   "metadata": {},
   "outputs": [
    {
     "data": {
      "image/png": "[encoded data removed]",
      "text/plain": [
       "<Figure size 640x480 with 1 Axes>"
      ]
     },
     "metadata": {},
     "output_type": "display_data"
    }
   ],
   "source": [
    "data.plot(kind='scatter', x='Year', y='Renewable Energy (MW)', s=32, alpha=.8)\n",
    "plt.gca().spines[['top', 'right',]].set_visible(False)"
   ]
  },
  {
   "cell_type": "code",
   "execution_count": 5,
   "id": "984e3dc7",
   "metadata": {},
   "outputs": [],
   "source": [
    "# Split the data into training and test sets\n",
    "train_data = data[data['Year'] <= 2015]\n",
    "test_data = data[data['Year'] > 2015]\n"
   ]
  },
  {
   "cell_type": "code",
   "execution_count": 6,
   "id": "9f541e41",
   "metadata": {},
   "outputs": [
    {
     "name": "stderr",
     "output_type": "stream",
     "text": [
      "/Users/anuragverma/anaconda3/lib/python3.11/site-packages/statsmodels/tsa/statespace/sarimax.py:966: UserWarning: Non-stationary starting autoregressive parameters found. Using zeros as starting parameters.\n",
      "  warn('Non-stationary starting autoregressive parameters'\n"
     ]
    }
   ],
   "source": [
    "# Train an ARIMA model on the training data\n",
    "model_arima = ARIMA(train_data['Renewable Energy (MW)'], order=(5, 1, 0))\n",
    "model_arima_fit = model_arima.fit()"
   ]
  },
  {
   "cell_type": "code",
   "execution_count": 7,
   "id": "c7a7dd01",
   "metadata": {},
   "outputs": [],
   "source": [
    "# Make predictions on the test data\n",
    "predictions_arima = model_arima_fit.predict(start=len(train_data), end=len(data) - 1, dynamic=False)"
   ]
  },
  {
   "cell_type": "code",
   "execution_count": 8,
   "id": "2d1425ed",
   "metadata": {},
   "outputs": [
    {
     "data": {
      "text/plain": [
       "66    76782.288614\n",
       "67    81514.221512\n",
       "68    86114.091788\n",
       "69    90583.125327\n",
       "70    94922.468084\n",
       "Name: predicted_mean, dtype: float64"
      ]
     },
     "execution_count": 8,
     "metadata": {},
     "output_type": "execute_result"
    }
   ],
   "source": [
    "predictions_arima"
   ]
  },
  {
   "cell_type": "code",
   "execution_count": 9,
   "id": "edb7c6df",
   "metadata": {},
   "outputs": [
    {
     "name": "stderr",
     "output_type": "stream",
     "text": [
      "/Users/anuragverma/anaconda3/lib/python3.11/site-packages/statsmodels/tsa/statespace/sarimax.py:966: UserWarning: Non-stationary starting autoregressive parameters found. Using zeros as starting parameters.\n",
      "  warn('Non-stationary starting autoregressive parameters'\n",
      "/Users/anuragverma/anaconda3/lib/python3.11/site-packages/statsmodels/tsa/statespace/sarimax.py:997: UserWarning: Non-stationary starting seasonal autoregressive Using zeros as starting parameters.\n",
      "  warn('Non-stationary starting seasonal autoregressive'\n",
      "/Users/anuragverma/anaconda3/lib/python3.11/site-packages/statsmodels/tsa/statespace/sarimax.py:1009: UserWarning: Non-invertible starting seasonal moving average Using zeros as starting parameters.\n",
      "  warn('Non-invertible starting seasonal moving average'\n"
     ]
    }
   ],
   "source": [
    "# Train a SARIMA model on the training data\n",
    "model_sarima = SARIMAX(train_data['Renewable Energy (MW)'], order=(5, 1, 0), seasonal_order=(1, 0, 1, 12))\n",
    "model_sarima_fit = model_sarima.fit(disp=0)\n"
   ]
  },
  {
   "cell_type": "code",
   "execution_count": 10,
   "id": "e9ebec29",
   "metadata": {},
   "outputs": [],
   "source": [
    "# Make predictions on the test data\n",
    "predictions_sarima = model_sarima_fit.predict(start=len(train_data), end=len(data) - 1, dynamic=False)"
   ]
  },
  {
   "cell_type": "code",
   "execution_count": 11,
   "id": "69f66f9a",
   "metadata": {},
   "outputs": [
    {
     "data": {
      "text/plain": [
       "66    76865.726031\n",
       "67    81759.570479\n",
       "68    86604.601350\n",
       "69    91392.903504\n",
       "70    96133.323550\n",
       "Name: predicted_mean, dtype: float64"
      ]
     },
     "execution_count": 11,
     "metadata": {},
     "output_type": "execute_result"
    }
   ],
   "source": [
    "predictions_sarima"
   ]
  },
  {
   "cell_type": "code",
   "execution_count": 12,
   "id": "8df1ff58",
   "metadata": {},
   "outputs": [
    {
     "data": {
      "text/plain": [
       "85983.23906499511"
      ]
     },
     "execution_count": 12,
     "metadata": {},
     "output_type": "execute_result"
    }
   ],
   "source": [
    "predictions_arima.mean()"
   ]
  },
  {
   "cell_type": "code",
   "execution_count": 13,
   "id": "d7ec0ac0",
   "metadata": {},
   "outputs": [
    {
     "data": {
      "text/plain": [
       "86551.22498283928"
      ]
     },
     "execution_count": 13,
     "metadata": {},
     "output_type": "execute_result"
    }
   ],
   "source": [
    "predictions_sarima.mean()"
   ]
  },
  {
   "cell_type": "code",
   "execution_count": 14,
   "id": "a67994ea",
   "metadata": {},
   "outputs": [
    {
     "data": {
      "text/plain": [
       "86917.0"
      ]
     },
     "execution_count": 14,
     "metadata": {},
     "output_type": "execute_result"
    }
   ],
   "source": [
    "test_data.mean()[1]"
   ]
  },
  {
   "cell_type": "code",
   "execution_count": null,
   "id": "75afd9a5",
   "metadata": {},
   "outputs": [],
   "source": []
  }
 ],
 "metadata": {
  "kernelspec": {
   "display_name": "Python 3 (ipykernel)",
   "language": "python",
   "name": "python3"
  },
  "language_info": {
   "codemirror_mode": {
    "name": "ipython",
    "version": 3
   },
   "file_extension": ".py",
   "mimetype": "text/x-python",
   "name": "python",
   "nbconvert_exporter": "python",
   "pygments_lexer": "ipython3",
   "version": "3.11.5"
  }
 },
 "nbformat": 4,
 "nbformat_minor": 5
}
